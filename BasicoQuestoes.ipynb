{
 "cells": [
  {
   "cell_type": "markdown",
   "id": "91688e8b",
   "metadata": {},
   "source": [
    "1 - Criar uma Variavel de textoo com o a segunte Frase \"Pos Graduação Fametro\" e em seguida usando os marcadores de slicing imprimir somente a aprte dela que contem  a apalvra \"Fametro\"."
   ]
  },
  {
   "cell_type": "code",
   "execution_count": null,
   "id": "c0d7d5b4",
   "metadata": {},
   "outputs": [],
   "source": []
  },
  {
   "cell_type": "markdown",
   "id": "6a70ed92",
   "metadata": {},
   "source": [
    "2 - Ler um numero inteiro e usando f-string imprimir \"O antecessor do número {numero} é {numero - 1}, e o sucessor é {numero + 1}."
   ]
  },
  {
   "cell_type": "code",
   "execution_count": null,
   "id": "af77a49b",
   "metadata": {},
   "outputs": [],
   "source": []
  },
  {
   "cell_type": "markdown",
   "id": "6560e273",
   "metadata": {},
   "source": [
    "3 - Ler 2 numeros inteiros e imprimir :<br>\n",
    "a) Soma<br>\n",
    "b) Subtração<br>\n",
    "c) Divisão<br>\n",
    "d) Multiplicação<br>\n",
    "e) Potenciação<br>"
   ]
  },
  {
   "cell_type": "markdown",
   "id": "fab4bd80",
   "metadata": {},
   "source": [
    "4 - Usando Esterutura condicional IF ELIF ELSE leia um numero inteiro e diga se ele é menor que 5, menor que que 15 ou está em outra faixa de numeros."
   ]
  },
  {
   "cell_type": "code",
   "execution_count": null,
   "id": "8de9ae88",
   "metadata": {},
   "outputs": [],
   "source": []
  },
  {
   "cell_type": "markdown",
   "id": "c16a2df0",
   "metadata": {},
   "source": [
    "5 - Usando estruturas de repetição FOR imprima todos os numeros entre 0 e 10."
   ]
  },
  {
   "cell_type": "code",
   "execution_count": null,
   "id": "6768fd78",
   "metadata": {},
   "outputs": [],
   "source": []
  },
  {
   "cell_type": "markdown",
   "id": "a172a97e",
   "metadata": {},
   "source": [
    "6 - Usando estruturas de repetição FOR imprima todos os numeros PARES entre 0 e 10."
   ]
  },
  {
   "cell_type": "code",
   "execution_count": null,
   "id": "858d852c",
   "metadata": {},
   "outputs": [],
   "source": []
  },
  {
   "cell_type": "code",
   "execution_count": null,
   "id": "6ad23e45",
   "metadata": {},
   "outputs": [],
   "source": []
  }
 ],
 "metadata": {
  "kernelspec": {
   "display_name": "Python 3 (ipykernel)",
   "language": "python",
   "name": "python3"
  },
  "language_info": {
   "codemirror_mode": {
    "name": "ipython",
    "version": 3
   },
   "file_extension": ".py",
   "mimetype": "text/x-python",
   "name": "python",
   "nbconvert_exporter": "python",
   "pygments_lexer": "ipython3",
   "version": "3.9.13"
  }
 },
 "nbformat": 4,
 "nbformat_minor": 5
}
