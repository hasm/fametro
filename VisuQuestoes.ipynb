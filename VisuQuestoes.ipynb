{
 "cells": [
  {
   "cell_type": "code",
   "execution_count": 1,
   "id": "f8b03ac8",
   "metadata": {},
   "outputs": [],
   "source": [
    "import pandas as pd\n",
    "import numpy as np\n",
    "import seaborn as sns\n",
    "import matplotlib.pyplot as plt\n",
    "%matplotlib inline\n",
    "\n",
    "df = pd.read_csv(\"desempregoIPCa.csv\")"
   ]
  },
  {
   "cell_type": "markdown",
   "id": "6a47e915",
   "metadata": {},
   "source": [
    "1 - Usar os dados fornecidos para plotar um grafico de linha usando a biblioteca seaborn usando a data e o IPCA."
   ]
  },
  {
   "cell_type": "code",
   "execution_count": null,
   "id": "da7ddfab",
   "metadata": {},
   "outputs": [],
   "source": []
  },
  {
   "cell_type": "markdown",
   "id": "6b865a24",
   "metadata": {},
   "source": [
    "2 - Usar os dados fornecidos para plotar um grafico de Histograma do IPCA usando a biblioteca seaborn."
   ]
  },
  {
   "cell_type": "code",
   "execution_count": null,
   "id": "1e639a2e",
   "metadata": {},
   "outputs": [],
   "source": []
  },
  {
   "cell_type": "markdown",
   "id": "cfc84a09",
   "metadata": {},
   "source": [
    "3 - Usar os dados fornecidos para plotar um gráficos de correlação com retas de regressão de desemprego e IPCA usando a biblioteca seaborn."
   ]
  },
  {
   "cell_type": "code",
   "execution_count": null,
   "id": "0bc8f086",
   "metadata": {},
   "outputs": [],
   "source": []
  },
  {
   "cell_type": "code",
   "execution_count": null,
   "id": "de57dabb",
   "metadata": {},
   "outputs": [],
   "source": []
  }
 ],
 "metadata": {
  "kernelspec": {
   "display_name": "Python 3 (ipykernel)",
   "language": "python",
   "name": "python3"
  },
  "language_info": {
   "codemirror_mode": {
    "name": "ipython",
    "version": 3
   },
   "file_extension": ".py",
   "mimetype": "text/x-python",
   "name": "python",
   "nbconvert_exporter": "python",
   "pygments_lexer": "ipython3",
   "version": "3.9.13"
  }
 },
 "nbformat": 4,
 "nbformat_minor": 5
}
